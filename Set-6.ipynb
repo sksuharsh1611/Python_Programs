{
 "cells": [
  {
   "cell_type": "markdown",
   "id": "b186fa9a-82af-4655-801f-b893063a5d71",
   "metadata": {},
   "source": [
    "Q1. Write a program that prints the first 10 even numbers using a for loop.\n",
    "\n",
    "Q2. Write a program that takes a list of strings and prints out each string in reverse order using a for loop.\n",
    "\n",
    "Q3. Write a program that prints the multiplication table of a given number using a for loop.\n",
    "\n",
    "Q4. Write a program that takes a list of integers as input and returns the sum of all the numbers in the list\n",
    "using a for loop.\n",
    "\n",
    "Q5. Write a program that prompts the user for a positive integer and then prints out all the prime\n",
    "numbers up to that number using a for loop.\n",
    "\n",
    "Q6. Write a program that prompts the user to enter a password until the correct password is entered\n",
    "using a while loop.\n",
    "\n",
    "Q7. Write a program that takes a list of strings and prints out each string in reverse order using a while\n",
    "loop.\n",
    "\n",
    "Q8. Write a program that prompts the user to enter a positive integer and then prints out all the Fibonacci\n",
    "numbers up to that number using a while loop.\n",
    "\n",
    "Q9. Write a program that takes a list of integers as input and returns the product of all the numbers in the\n",
    "list using a while loop.\n",
    "\n",
    "Q10. Write a program that prompts the user to enter a positive integer and then prints out the factorial of\n",
    "that number using a while loop."
   ]
  },
  {
   "cell_type": "code",
   "execution_count": 4,
   "id": "b915d177-fa29-43f9-abf1-5f357f2d2e11",
   "metadata": {},
   "outputs": [
    {
     "name": "stdout",
     "output_type": "stream",
     "text": [
      "2\n",
      "4\n",
      "6\n",
      "8\n",
      "10\n",
      "12\n",
      "14\n",
      "16\n",
      "18\n",
      "20\n"
     ]
    }
   ],
   "source": [
    "# Sol 1:\n",
    "for i in range(2,21,2):\n",
    "    print(i)"
   ]
  },
  {
   "cell_type": "code",
   "execution_count": 22,
   "id": "8641a6f7-be75-448d-b224-bf7326d5b3cc",
   "metadata": {},
   "outputs": [
    {
     "name": "stdin",
     "output_type": "stream",
     "text": [
      "Enter number of strings to store: 2\n",
      "Enter String: sun\n",
      "Enter String: Moon\n"
     ]
    },
    {
     "name": "stdout",
     "output_type": "stream",
     "text": [
      "['nus', 'noom']\n"
     ]
    }
   ],
   "source": [
    "# Sol 2:\n",
    "n= int(input(\"Enter number of strings to store:\"))\n",
    "str_list = []\n",
    "reversed_list = []\n",
    "for i in range(n):\n",
    "    input_list = (input(\"Enter String:\").lower())\n",
    "    str_list.append(input_list)\n",
    "for j in str_list:\n",
    "    reversed_list.append(j[::-1])\n",
    "\n",
    "print(reversed_list)\n",
    "    \n",
    "\n",
    "    "
   ]
  },
  {
   "cell_type": "code",
   "execution_count": 26,
   "id": "7e38fa94-3ced-4a90-9a5e-ff47e5fcf614",
   "metadata": {},
   "outputs": [
    {
     "name": "stdin",
     "output_type": "stream",
     "text": [
      "Enter table to print: 5\n"
     ]
    },
    {
     "name": "stdout",
     "output_type": "stream",
     "text": [
      "5 x 1  =  5\n",
      "5 x 2  =  10\n",
      "5 x 3  =  15\n",
      "5 x 4  =  20\n",
      "5 x 5  =  25\n",
      "5 x 6  =  30\n",
      "5 x 7  =  35\n",
      "5 x 8  =  40\n",
      "5 x 9  =  45\n",
      "5 x 10  =  50\n"
     ]
    }
   ],
   "source": [
    "# Sol 3:\n",
    "table = int(input(\"Enter table to print:\"))\n",
    "for i in range(1,11):\n",
    "    print(table, 'x', i, ' = ' ,table*i)\n"
   ]
  },
  {
   "cell_type": "code",
   "execution_count": 40,
   "id": "a511d10d-a94f-444c-8e0d-5d6809b87503",
   "metadata": {},
   "outputs": [
    {
     "name": "stdin",
     "output_type": "stream",
     "text": [
      "Enter size of list: 4\n",
      "enter integer elements: 4\n",
      "enter integer elements: 7\n",
      "enter integer elements: 7\n",
      "enter integer elements: 7\n"
     ]
    },
    {
     "name": "stdout",
     "output_type": "stream",
     "text": [
      "25\n"
     ]
    }
   ],
   "source": [
    "# Sol 4:\n",
    "int_list = []\n",
    "summation = 0\n",
    "n = int(input(\"Enter size of list:\"))\n",
    "for i in range(n): \n",
    "    l = int(input(\"enter integer elements:\"))\n",
    "    int_list.append(l)\n",
    "    \n",
    "for k in int_list:\n",
    "    summation = summation + k\n",
    "print(summation)\n",
    "          "
   ]
  },
  {
   "cell_type": "code",
   "execution_count": 43,
   "id": "cc9c1101-e8d3-40d3-b0fa-4e42b549466c",
   "metadata": {},
   "outputs": [
    {
     "name": "stdin",
     "output_type": "stream",
     "text": [
      "Enter integer upto which you want primes: 15\n"
     ]
    },
    {
     "name": "stdout",
     "output_type": "stream",
     "text": [
      "2\n",
      "4\n",
      "6\n",
      "8\n",
      "10\n",
      "12\n",
      "14\n"
     ]
    }
   ],
   "source": [
    "# Sol 5:\n",
    "num = int(input(\"Enter integer upto which you want primes:\"))\n",
    "for i in range(2,num):\n",
    "    print(i)"
   ]
  },
  {
   "cell_type": "code",
   "execution_count": 6,
   "id": "ffece7d5-7998-435b-8c38-3ec50b6cdb9b",
   "metadata": {},
   "outputs": [
    {
     "name": "stdin",
     "output_type": "stream",
     "text": [
      "Enter the password:  js\n"
     ]
    },
    {
     "name": "stdout",
     "output_type": "stream",
     "text": [
      "Incorrect password. Please try again.\n"
     ]
    },
    {
     "name": "stdin",
     "output_type": "stream",
     "text": [
      "Enter the password:  dfjh\n"
     ]
    },
    {
     "name": "stdout",
     "output_type": "stream",
     "text": [
      "Incorrect password. Please try again.\n"
     ]
    },
    {
     "name": "stdin",
     "output_type": "stream",
     "text": [
      "Enter the password:  dhsjkd\n"
     ]
    },
    {
     "name": "stdout",
     "output_type": "stream",
     "text": [
      "Incorrect password. Please try again.\n"
     ]
    },
    {
     "name": "stdin",
     "output_type": "stream",
     "text": [
      "Enter the password:  dhkfsdhi\n"
     ]
    },
    {
     "name": "stdout",
     "output_type": "stream",
     "text": [
      "Incorrect password. Please try again.\n"
     ]
    },
    {
     "name": "stdin",
     "output_type": "stream",
     "text": [
      "Enter the password:  Sk@pwskills#123\n"
     ]
    },
    {
     "name": "stdout",
     "output_type": "stream",
     "text": [
      "Correct password entered!\n"
     ]
    }
   ],
   "source": [
    "# Sol 6:\n",
    "password = 'Sk@pwskills#123'\n",
    "while True:\n",
    "    user_password = input(\"Enter the password: \")\n",
    "    if user_password == password:\n",
    "        print(\"Correct password entered!\")\n",
    "        break\n",
    "    else:\n",
    "        print(\"Incorrect password. Please try again.\")"
   ]
  },
  {
   "cell_type": "code",
   "execution_count": 20,
   "id": "5bfc145c-0886-4dad-97cf-8029d2fd2b54",
   "metadata": {},
   "outputs": [
    {
     "name": "stdin",
     "output_type": "stream",
     "text": [
      "Enter size of list: 2\n",
      "Enter string: sun\n",
      "Enter string: moon\n"
     ]
    },
    {
     "name": "stdout",
     "output_type": "stream",
     "text": [
      "['noom', 'nus']\n"
     ]
    }
   ],
   "source": [
    "# Sol 7:\n",
    "n= int(input(\"Enter size of list:\"))\n",
    "i = 0\n",
    "str_list = []\n",
    "while i < n:\n",
    "    str_list.append(input(\"Enter string:\"))\n",
    "    i+=1\n",
    "j = len(str_list) - 1\n",
    "reversed_list = []\n",
    "while j >= 0:\n",
    "    reversed_list.append((str_list[j][::-1]))\n",
    "    j -= 1\n",
    "print(reversed_list)"
   ]
  },
  {
   "cell_type": "code",
   "execution_count": 9,
   "id": "8371a5b5-d0a1-4a09-af79-e975dfb9023e",
   "metadata": {},
   "outputs": [
    {
     "name": "stdin",
     "output_type": "stream",
     "text": [
      "Enter a positive integer:  6\n"
     ]
    },
    {
     "name": "stdout",
     "output_type": "stream",
     "text": [
      "[0, 1, 1, 2, 3, 5]\n"
     ]
    }
   ],
   "source": [
    "# Sol 8:\n",
    "n = int(input(\"Enter a positive integer: \"))\n",
    "fibonacci = [0, 1]\n",
    "\n",
    "while fibonacci[-1] < n:\n",
    "    next_fibonacci = fibonacci[-1] + fibonacci[-2]\n",
    "    fibonacci.append(next_fibonacci)\n",
    "\n",
    "for i in range(len(fibonacci)):\n",
    "    if fibonacci[i] > n:\n",
    "        fibonacci.pop()\n",
    "        break\n",
    "\n",
    "print(fibonacci)\n",
    "\n"
   ]
  },
  {
   "cell_type": "code",
   "execution_count": 12,
   "id": "c626f1ac-d3ae-441b-9e25-8dce0b59bcad",
   "metadata": {
    "tags": []
   },
   "outputs": [
    {
     "name": "stdin",
     "output_type": "stream",
     "text": [
      "Enter size of list: 4\n",
      "Enter integers: 3\n",
      "Enter integers: 5\n",
      "Enter integers: 2\n",
      "Enter integers: 4\n"
     ]
    },
    {
     "name": "stdout",
     "output_type": "stream",
     "text": [
      "120\n"
     ]
    }
   ],
   "source": [
    "#### Sol 9:\n",
    "n= int(input(\"Enter size of list:\"))\n",
    "i = 0\n",
    "int_list = []\n",
    "while i < n:\n",
    "    int_list.append(int(input(\"Enter integers:\")))\n",
    "    i+=1\n",
    "\n",
    "\n",
    "j=0\n",
    "prod = 1\n",
    "while j < len(int_list) :\n",
    "    prod = prod * int_list[j]\n",
    "    j+=1\n",
    "    \n",
    "print(prod)"
   ]
  },
  {
   "cell_type": "code",
   "execution_count": 13,
   "id": "1621203c-7681-493a-b1ec-ee64953e5224",
   "metadata": {},
   "outputs": [
    {
     "name": "stdin",
     "output_type": "stream",
     "text": [
      "Enter a positive integer:  15\n"
     ]
    },
    {
     "name": "stdout",
     "output_type": "stream",
     "text": [
      "1307674368000\n"
     ]
    }
   ],
   "source": [
    "# Sol 10:\n",
    "n = int(input(\"Enter a positive integer: \"))\n",
    "factorial = 1\n",
    "index = 1\n",
    "\n",
    "while index <= n:\n",
    "    factorial *= index\n",
    "    index += 1\n",
    "\n",
    "print(factorial)"
   ]
  },
  {
   "cell_type": "code",
   "execution_count": null,
   "id": "7a11a88f-bd09-408c-919d-828ddb13eaf1",
   "metadata": {},
   "outputs": [],
   "source": []
  }
 ],
 "metadata": {
  "kernelspec": {
   "display_name": "Python 3 (ipykernel)",
   "language": "python",
   "name": "python3"
  },
  "language_info": {
   "codemirror_mode": {
    "name": "ipython",
    "version": 3
   },
   "file_extension": ".py",
   "mimetype": "text/x-python",
   "name": "python",
   "nbconvert_exporter": "python",
   "pygments_lexer": "ipython3",
   "version": "3.10.8"
  }
 },
 "nbformat": 4,
 "nbformat_minor": 5
}
