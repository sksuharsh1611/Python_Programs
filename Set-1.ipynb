{
 "cells": [
  {
   "cell_type": "code",
   "execution_count": null,
   "id": "afb3428d-01bd-4990-bed5-44051bc8017f",
   "metadata": {},
   "outputs": [],
   "source": [
    "Q1. Write a Python program that defines a function called \"add_numbers\" that takes two arguments (i.e.,\n",
    "numbers) and returns their sum. Within the function, add the two numbers together and return the result\n",
    "using the return statement. Call the function with the values 5 and 6, and print out the returned result.\n",
    "This will result in the addition of 5 and 6, with the output of the program being the sum of these two\n",
    "numbers.\n",
    "\n",
    "Q2. Write a Python program that calculates the square root of a given number using a built-in function.\n",
    "Specifically, the program should take an integer or float input from the user, calculate its square root\n",
    "using the 'sqrt()' function from the 'math' module, and print out the result to the user. As an example,\n",
    "calculate the square root of the number 625 using this program, which should output the value of 25.\n",
    "\n",
    "Q3.Write a program that prints all prime numbers between 0 to 50.\n",
    "\n",
    "Q4.How can we swap the values of three variables (let's say a, b, and c) without using a fourth variable?\n",
    "For example, if we have a=5, b=8, and c=9, how can we obtain a=9, b=5, and c=8? The challenge is to\n",
    "perform this operation without using an additional variable to store any of the values during the\n",
    "swapping process.\n",
    "\n",
    "Q5. Can you write a program that determines the nature of a given number (in this case, 87) as being\n",
    "positive, negative, or zero? The program should be designed to take the number as input and perform the\n",
    "necessary calculations to determine if the number is positive (i.e., greater than zero), negative (i.e., less\n",
    "than zero), or zero (i.e., equal to zero). The output of the program should indicate which of these three\n",
    "categories the given number falls into.\n",
    "\n",
    "Q6. How can you create a program that determines whether a given number (in this case, 98) is even or\n",
    "odd? The program should be designed to take the number as input and perform the necessary\n",
    "calculations to determine whether it is divisible by two. If the number is divisible by two without leaving a\n",
    "remainder, it is an even number, and if there is a remainder, it is an odd number. The output of the\n",
    "program should indicate whether the given number is even or odd.\n",
    "                                                  \n",
    "Q7.Write a program for sum of digits.the digits are 76543 and the output should be 25.\n",
    "\n",
    "Q8.Write a program for reversing the given number 5436 and the output should be 6345.\n",
    "                                                  \n",
    "Q9.Write a program to check if a given number 371 is an Armstrong number?\n",
    "                                                  \n",
    "Q10.Write a program the given year is 1996, a leap year."
   ]
  },
  {
   "cell_type": "code",
   "execution_count": 2,
   "id": "97195fb2-fa9e-4e88-b896-846ff60fd278",
   "metadata": {},
   "outputs": [
    {
     "name": "stdout",
     "output_type": "stream",
     "text": [
      "Sum of two numbers: 11\n"
     ]
    }
   ],
   "source": [
    "# Sol 1:\n",
    "# Addition of two numbers using user defined function\n",
    "def add_numbers(a,b):\n",
    "    return a+b\n",
    "\n",
    "obj1 = add_numbers(5,6)\n",
    "print(\"Sum of two numbers:\",obj1)"
   ]
  },
  {
   "cell_type": "code",
   "execution_count": 8,
   "id": "646ce0ee-574a-44d1-8210-620412821c1d",
   "metadata": {},
   "outputs": [
    {
     "name": "stdin",
     "output_type": "stream",
     "text": [
      "Enter any number: 625\n"
     ]
    },
    {
     "data": {
      "text/plain": [
       "'Square root of given number:25.0'"
      ]
     },
     "execution_count": 8,
     "metadata": {},
     "output_type": "execute_result"
    }
   ],
   "source": [
    "# Sol 2:\n",
    "# Program to calculate square root using built-in features.\n",
    "import math\n",
    "num = float(input(\"Enter any number:\"))\n",
    "square_root = math.sqrt(num)\n",
    "f\"Square root of given number:{square_root}\".format()"
   ]
  },
  {
   "cell_type": "code",
   "execution_count": 20,
   "id": "817eb145-0340-4c62-af99-a2dd3e3250c3",
   "metadata": {},
   "outputs": [
    {
     "name": "stdout",
     "output_type": "stream",
     "text": [
      "[0, 1, 2, 3, 5, 7, 11, 13, 17, 19, 23, 29, 31, 37, 41, 43, 47]\n"
     ]
    }
   ],
   "source": [
    "# Sol 3:\n",
    "# To print primes between 0 to 50.\n",
    "is_prime = lambda x: all(x % i != 0 for i in range(2, int(x**0.5)+1))\n",
    "\n",
    "list_of_primes  = list(filter(is_prime, range(0,51)))\n",
    "\n",
    "print(list_of_primes)"
   ]
  },
  {
   "cell_type": "code",
   "execution_count": 26,
   "id": "a45e587d-25b6-4101-89fd-43be658200ce",
   "metadata": {},
   "outputs": [
    {
     "name": "stdout",
     "output_type": "stream",
     "text": [
      "Swapped Values : a = 9 b = 5 c = 8\n"
     ]
    }
   ],
   "source": [
    "# Sol 4:\n",
    "# Swap numbers without using 4th variable.\n",
    "a,b,c = 5,8,9\n",
    "a = a + b + c\n",
    "b = a - b - c\n",
    "c = a - b - c\n",
    "a = a - b - c\n",
    "print(\"Swapped Values : \"\"a =\",a,\"b =\",b,\"c =\",c)"
   ]
  },
  {
   "cell_type": "code",
   "execution_count": 23,
   "id": "3b579026-4024-4b35-97c6-28d057b621e5",
   "metadata": {},
   "outputs": [
    {
     "name": "stdin",
     "output_type": "stream",
     "text": [
      "How many times you want to exexute: 4\n",
      "Enter any number: 25\n"
     ]
    },
    {
     "name": "stdout",
     "output_type": "stream",
     "text": [
      "25: is a positive number\n"
     ]
    },
    {
     "name": "stdin",
     "output_type": "stream",
     "text": [
      "Enter any number: -10\n"
     ]
    },
    {
     "name": "stdout",
     "output_type": "stream",
     "text": [
      "-10: is a negative number\n"
     ]
    },
    {
     "name": "stdin",
     "output_type": "stream",
     "text": [
      "Enter any number: 0\n"
     ]
    },
    {
     "name": "stdout",
     "output_type": "stream",
     "text": [
      "0: is a negative number\n"
     ]
    },
    {
     "name": "stdin",
     "output_type": "stream",
     "text": [
      "Enter any number: Suharsh\n"
     ]
    },
    {
     "name": "stdout",
     "output_type": "stream",
     "text": [
      "Invalid input, Please enter integers only !!\n"
     ]
    }
   ],
   "source": [
    "# Sol 5:\n",
    "# Program to check entered number is +ve,-ve or zero\n",
    "def check_number(num):\n",
    "    # Check if the number is positive\n",
    "    if num > 0:\n",
    "        return f\"{num}: is a positive number\"\n",
    "    # Check if the number is negative\n",
    "    elif num <= 0:\n",
    "        return f\"{num}: is a negative number\"\n",
    "    # If the number is not positive or negative, it must be zero\n",
    "    else:\n",
    "        return f\"{num}: is equal to zero\"\n",
    "       \n",
    "try:\n",
    "    # Ask the user how many times they want to execute the program and convert it to an integer\n",
    "    run_times = int(input(\"How many times you want to exexute:\"))\n",
    "    # Loop through the program while True.\n",
    "    while run_times > 0:\n",
    "        # Ask the user to input a number and convert it to an integer\n",
    "        num = int(input(\"Enter any number:\"))\n",
    "        # Call the check_number function and print the result\n",
    "        print(check_number(num))\n",
    "        run_times+=1\n",
    "# Catch a ValueError exception that might occur when trying to convert the input to an integer\n",
    "except ValueError:\n",
    "    # Print an error message\n",
    "    print(\"Invalid input, Please enter integers only !!\")\n",
    "\n",
    "        "
   ]
  },
  {
   "cell_type": "code",
   "execution_count": 5,
   "id": "3a3c7603-f3dd-417d-ab65-5a4da0515333",
   "metadata": {},
   "outputs": [
    {
     "name": "stdin",
     "output_type": "stream",
     "text": [
      "How many times you want to execute the program?  3\n",
      "Enter any number:  0\n"
     ]
    },
    {
     "name": "stdout",
     "output_type": "stream",
     "text": [
      "0: is zero i.e. neither even nor odd\n"
     ]
    },
    {
     "name": "stdin",
     "output_type": "stream",
     "text": [
      "Enter any number:  24\n"
     ]
    },
    {
     "name": "stdout",
     "output_type": "stream",
     "text": [
      "24: is an even number\n"
     ]
    },
    {
     "name": "stdin",
     "output_type": "stream",
     "text": [
      "Enter any number:  3\n"
     ]
    },
    {
     "name": "stdout",
     "output_type": "stream",
     "text": [
      "3: is an odd number\n"
     ]
    }
   ],
   "source": [
    "# Sol 6:\n",
    "# Program to check entered number is odd/even\n",
    "def even_odd(num):\n",
    "    # Check if the number is zero\n",
    "    if num == 0:\n",
    "        return f\"{num}: is zero i.e. neither even nor odd\"\n",
    "    # Check if the number is even\n",
    "    elif num % 2 == 0:\n",
    "        return f\"{num}: is an even number\"\n",
    "    # If the number is not zero or even, it must be odd\n",
    "    else:\n",
    "        return f\"{num}: is an odd number\"\n",
    "\n",
    "try:\n",
    "    # Ask the user how many times they want to execute the program and convert it to an integer\n",
    "    run_time = int(input(\"How many times you want to execute the program? \"))\n",
    "    \n",
    "    # Loop through the program for the specified number of times\n",
    "    for i in range(run_time):\n",
    "        # Ask the user to input a number and convert it to an integer\n",
    "        num = int(input(\"Enter any number: \"))\n",
    "        # Call the even_odd function and print the result\n",
    "        print(even_odd(num))\n",
    "\n",
    "# Catch a ValueError exception that might occur when trying to convert the input to an integer\n",
    "except ValueError:\n",
    "    # Print an error message\n",
    "    print(\"Invalid input. Please enter integers only.\")\n",
    "\n",
    "\n",
    "        \n"
   ]
  },
  {
   "cell_type": "code",
   "execution_count": 54,
   "id": "02c1bb5e-7290-41eb-a8d5-457ffa9157bd",
   "metadata": {},
   "outputs": [
    {
     "name": "stdout",
     "output_type": "stream",
     "text": [
      "Sum of digits =  25\n"
     ]
    }
   ],
   "source": [
    "# Sol 7:\n",
    "# To calculate sum of digits\n",
    "digits= 76543\n",
    "l = [int(i) for i in str(digits)]\n",
    "sum_of_digit = sum(l)\n",
    "\n",
    "print(\"Sum of digits = \",sum_of_digit)"
   ]
  },
  {
   "cell_type": "code",
   "execution_count": 73,
   "id": "ed8816fd-212e-4898-b291-90c9b3af2c61",
   "metadata": {},
   "outputs": [
    {
     "name": "stdout",
     "output_type": "stream",
     "text": [
      "Reversed number =  6345\n"
     ]
    },
    {
     "data": {
      "text/plain": [
       "[6, 3, 4, 5]"
      ]
     },
     "execution_count": 73,
     "metadata": {},
     "output_type": "execute_result"
    }
   ],
   "source": [
    "# Sol 8:\n",
    "# To reverse a given number.\n",
    "num = 5436\n",
    "l = [int(i) for i in str(num)][::-1]\n",
    "rev_num = int(''.join(str(i) for i in l))\n",
    "                     \n",
    "print(\"Reversed number = \",rev_num)\n"
   ]
  },
  {
   "cell_type": "code",
   "execution_count": 1,
   "id": "42c15fb3-6136-4ebe-9c2e-d980d3bfcb14",
   "metadata": {},
   "outputs": [
    {
     "name": "stdin",
     "output_type": "stream",
     "text": [
      "Enter num:  548834\n"
     ]
    },
    {
     "name": "stdout",
     "output_type": "stream",
     "text": [
      "548834 is an Armstrong number: 548834\n"
     ]
    }
   ],
   "source": [
    "# Sol 9:\n",
    "# Program to check armstring number.\n",
    "def check_armstrong(num):\n",
    "    l = [int(i) for i in str(num)]\n",
    "    l1 = list(map(lambda x: x**len(l), l))\n",
    "    sum_of_cubes = sum(l1)\n",
    "    \n",
    "    if num == sum_of_cubes:\n",
    "        return f\"{num} is an Armstrong number: {sum_of_cubes}\"\n",
    "    else:\n",
    "        return f\"{num} is not an Armstrong number\"\n",
    "        \n",
    "num = int(input(\"Enter num: \"))\n",
    "print(check_armstrong(num))\n"
   ]
  },
  {
   "cell_type": "code",
   "execution_count": 15,
   "id": "a71b9deb-3203-4d5f-98c9-0216a445bd12",
   "metadata": {},
   "outputs": [
    {
     "name": "stdin",
     "output_type": "stream",
     "text": [
      "Enter year: 1640\n"
     ]
    },
    {
     "name": "stdout",
     "output_type": "stream",
     "text": [
      "Given 1640 is a leap year\n"
     ]
    }
   ],
   "source": [
    "# Sol 10:\n",
    "# Program to check entered year is leap year or not.\n",
    "year = int(input(\"Enter year:\"))\n",
    "\n",
    "if year % 4 == 0:\n",
    "    if year % 100 == 0:\n",
    "        if year % 400 == 0:\n",
    "            print(f\"Given {year} is a leap year\")\n",
    "        else:\n",
    "            print(\"Not a leap year\")\n",
    "    else:\n",
    "        print(f\"Given {year} is a leap year\")\n",
    "else:\n",
    "    print(\"Not a leap year\")"
   ]
  },
  {
   "cell_type": "code",
   "execution_count": null,
   "id": "a61848db-9f0d-4133-88dc-103ac7c0e9f0",
   "metadata": {},
   "outputs": [],
   "source": []
  }
 ],
 "metadata": {
  "kernelspec": {
   "display_name": "Python 3 (ipykernel)",
   "language": "python",
   "name": "python3"
  },
  "language_info": {
   "codemirror_mode": {
    "name": "ipython",
    "version": 3
   },
   "file_extension": ".py",
   "mimetype": "text/x-python",
   "name": "python",
   "nbconvert_exporter": "python",
   "pygments_lexer": "ipython3",
   "version": "3.10.8"
  }
 },
 "nbformat": 4,
 "nbformat_minor": 5
}
