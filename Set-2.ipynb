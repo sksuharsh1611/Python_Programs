{
 "cells": [
  {
   "cell_type": "code",
   "execution_count": null,
   "id": "5e133d65-3794-4e8f-8e68-9cd14d911d7f",
   "metadata": {},
   "outputs": [],
   "source": [
    "Q1. Create a list in python using the followings: 2,3,4,5,6,7 with variable ‘a’\n",
    "Add ‘mango to the above list\n",
    "Also add banana, grapes & orange in the list\n",
    "insert apple in the 5th position of a variable ‘a’\n",
    "Remove last item from the list\n",
    "\n",
    "Q2.\n",
    "L = [1,2,3,4,5,6,7]\n",
    "Using the above list slice from 1:4\n",
    "\n",
    "Q3. Reverse the order of given string L = [4,5,6,8,3] Without using reverse() function.\n",
    "\n",
    "Q4. Use list comprehension to square the given list L=[2,4,7,3,6,8]\n",
    "\n",
    "Q5. Create a function that takes in a tuple of integers and returns the sum of the integers. Test the\n",
    "function with a tuple of your choice.\n",
    "\n",
    "Q6. Create two sets of your favourite fruits, and use the union() method to combine them into a single set.\n",
    "Print the resulting set to the console.\n",
    "\n",
    "Q7. Create a set of random words, and use the add() method to add a new word to the set. Print the\n",
    "resulting set to the console.\n",
    "\n",
    "Q8. Create a set of your favourite animals, and use the remove() method to remove one animal from the\n",
    "set. Print the resulting set to the console.\n",
    "\n",
    "Q9. favorite_books = {\"1984\", \"To Kill a Mockingbird\", \"Pride and Prejudice\"}\n",
    "favorite_movies = [\"The Shawshank Redemption\", \"The Godfather\", \"The Dark Knight\"]\n",
    "Use the zip() function to combine the book set and movie list into a list of tuples representing book/\n",
    "movie pairs. Print the resulting list.\n",
    "\n",
    "Q10. Write a Python program to find the difference between consecutive numbers in a list."
   ]
  },
  {
   "cell_type": "code",
   "execution_count": 16,
   "id": "918d0609-cad6-4c9c-bc08-1c5424dcc221",
   "metadata": {},
   "outputs": [
    {
     "data": {
      "text/plain": [
       "[2, 3, 4, 5, 'apple', 6, 7, 'mango', 'banana', 'grapes']"
      ]
     },
     "execution_count": 16,
     "metadata": {},
     "output_type": "execute_result"
    }
   ],
   "source": [
    "# Sol 1:\n",
    "# Using different built-in list methods\n",
    "a = [2,3,4,5,6,7]\n",
    "a.append('mango')\n",
    "a.extend(['banana','grapes','orange'])\n",
    "a.insert(4,'apple')\n",
    "a.pop()\n",
    "a"
   ]
  },
  {
   "cell_type": "code",
   "execution_count": 20,
   "id": "0748c3ba-9989-4ef3-b373-33e790802d9f",
   "metadata": {},
   "outputs": [
    {
     "name": "stdout",
     "output_type": "stream",
     "text": [
      "[2, 3, 4]\n"
     ]
    }
   ],
   "source": [
    "# Sol 2:\n",
    "# Using slicing\n",
    "l = [1,2,3,4,5,6,7]\n",
    "sliced_list = l[1:4]\n",
    "print(sliced_list)"
   ]
  },
  {
   "cell_type": "code",
   "execution_count": 27,
   "id": "58299e66-3d38-4add-9491-9c8523351f81",
   "metadata": {},
   "outputs": [
    {
     "name": "stdout",
     "output_type": "stream",
     "text": [
      "[3, 8, 6, 5, 4]\n"
     ]
    }
   ],
   "source": [
    "# Sol 3:\n",
    "# Program to reverse list without using reverse()\n",
    "L = [4,5,6,8,3]\n",
    "reversed_list = L[::-1] \n",
    "print(reversed_list)"
   ]
  },
  {
   "cell_type": "code",
   "execution_count": 28,
   "id": "8d0a45cb-cdd4-47a2-99f0-8802ea17cb73",
   "metadata": {},
   "outputs": [
    {
     "name": "stdout",
     "output_type": "stream",
     "text": [
      "[4, 16, 49, 9, 36, 64]\n"
     ]
    }
   ],
   "source": [
    "# Sol 4:\n",
    "# Program to print square of elements from a given list\n",
    "L=[2,4,7,3,6,8]\n",
    "squared_list = list(map(lambda x:x**2,L))\n",
    "print(squared_list)"
   ]
  },
  {
   "cell_type": "code",
   "execution_count": 8,
   "id": "f0b7010c-d39f-420a-b5d3-cd8eea5e67a9",
   "metadata": {},
   "outputs": [
    {
     "name": "stdout",
     "output_type": "stream",
     "text": [
      "Sum of elements of tuple: 15\n"
     ]
    }
   ],
   "source": [
    "# Sol 5:\n",
    "# Program to add tuple elements\n",
    "def add_tuple(t):\n",
    "    l=list(t)\n",
    "    sum = 0\n",
    "    for i in l:\n",
    "        sum = sum+i\n",
    "    return sum\n",
    "    \n",
    "\n",
    "t1= (1,2,3,4,5)\n",
    "print(\"Sum of elements of tuple:\",add_tuple(t1))"
   ]
  },
  {
   "cell_type": "code",
   "execution_count": 11,
   "id": "8536cc52-c887-4635-967b-271158f6f2c6",
   "metadata": {},
   "outputs": [
    {
     "data": {
      "text/plain": [
       "\"Favourite fruits:{'Mango', 'Bananna', 'Grapes', 'Apple', 'Kiwi', 'Papaya'}\""
      ]
     },
     "execution_count": 11,
     "metadata": {},
     "output_type": "execute_result"
    }
   ],
   "source": [
    "# Sol 6:\n",
    "# Using union() method with Set\n",
    "fruits1 = {'Mango','Kiwi','Apple'}\n",
    "fruits2 = {'Bananna','Papaya','Grapes'}\n",
    "fav_fruits = fruits1.union(fruits2)\n",
    "f\"Favourite fruits:{fav_fruits}\""
   ]
  },
  {
   "cell_type": "code",
   "execution_count": 13,
   "id": "135f89d0-ce4b-4990-94a4-8c11617370c8",
   "metadata": {},
   "outputs": [
    {
     "data": {
      "text/plain": [
       "\"Final Set after add:{'galaxy', 'moon', 'sun', 'satellite', 'star'}\""
      ]
     },
     "execution_count": 13,
     "metadata": {},
     "output_type": "execute_result"
    }
   ],
   "source": [
    "# Sol 7:\n",
    "# Using add() method with Set\n",
    "s1 = {\"sun\",\"moon\",\"star\",\"galaxy\"}\n",
    "s1.add(\"satellite\")\n",
    "f\"Final Set after add:{s1}\""
   ]
  },
  {
   "cell_type": "code",
   "execution_count": 18,
   "id": "d69e432e-f218-463f-9f9d-f2c3fa57a924",
   "metadata": {},
   "outputs": [
    {
     "name": "stdout",
     "output_type": "stream",
     "text": [
      "Set of favourite animals: {'Girrafe', 'Leopard', 'Lion', 'Tiger'}\n"
     ]
    }
   ],
   "source": [
    "# Sol 8:\n",
    "# Removing elements from a Set using remove()\n",
    "fav_animals = {'Lion','Tiger','Girrafe','Rhino','Leopard'}\n",
    "fav_animals.remove('Rhino')\n",
    "print(\"Set of favourite animals:\",fav_animals)"
   ]
  },
  {
   "cell_type": "code",
   "execution_count": 24,
   "id": "ab1488bf-9f3f-4e7c-bf07-e5cb03ab87b2",
   "metadata": {},
   "outputs": [
    {
     "data": {
      "text/plain": [
       "[('To Kill a Mockingbird', 'The Shawshank Redemption'),\n",
       " ('1984', 'The Godfather'),\n",
       " ('Pride and Prejudice', 'The Dark Knight')]"
      ]
     },
     "execution_count": 24,
     "metadata": {},
     "output_type": "execute_result"
    }
   ],
   "source": [
    "# Sol 9:\n",
    "# Using zip() method for combining\n",
    "favorite_books = {\"1984\", \"To Kill a Mockingbird\", \"Pride and Prejudice\"}\n",
    "favorite_movies = [\"The Shawshank Redemption\", \"The Godfather\", \"The Dark Knight\"]\n",
    "final_tuple = list(zip(favorite_books,favorite_movies))\n",
    "final_tuple\n"
   ]
  },
  {
   "cell_type": "code",
   "execution_count": 60,
   "id": "2d2bf6a7-7def-4cd1-9bb0-a35f8ec238db",
   "metadata": {},
   "outputs": [
    {
     "name": "stdout",
     "output_type": "stream",
     "text": [
      "Difference between consecutive numbers in given list: [6, 5, -19, 14, -11]\n"
     ]
    }
   ],
   "source": [
    "# Sol 10:\n",
    "# Program to calculate difference between two consecutive members of a list.\n",
    "\n",
    "find_diff = lambda x: [x[i] - x[i-1] for i in range(1, len(x))]\n",
    "list1=[9,15,20,1,15,4]\n",
    "diff = find_diff(list1)\n",
    "print(\"Difference between consecutive numbers in given list:\",diff)\n",
    "    "
   ]
  },
  {
   "cell_type": "code",
   "execution_count": null,
   "id": "9dffef45-88a5-4311-a354-f1a31a655133",
   "metadata": {},
   "outputs": [],
   "source": []
  },
  {
   "cell_type": "code",
   "execution_count": null,
   "id": "5e859e07-4f73-4a06-bd6c-d4f82e489613",
   "metadata": {},
   "outputs": [],
   "source": []
  }
 ],
 "metadata": {
  "kernelspec": {
   "display_name": "Python 3 (ipykernel)",
   "language": "python",
   "name": "python3"
  },
  "language_info": {
   "codemirror_mode": {
    "name": "ipython",
    "version": 3
   },
   "file_extension": ".py",
   "mimetype": "text/x-python",
   "name": "python",
   "nbconvert_exporter": "python",
   "pygments_lexer": "ipython3",
   "version": "3.10.8"
  }
 },
 "nbformat": 4,
 "nbformat_minor": 5
}
