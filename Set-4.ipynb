{
 "cells": [
  {
   "cell_type": "markdown",
   "id": "299fdbc0-5bf6-49d9-a7d9-8691add1d570",
   "metadata": {},
   "source": [
    "Q1. Create a class called \"Person\" with properties for \"name\", \"age\", and \"gender\". Create an object of this\n",
    "class and print out its properties.\n",
    "\n",
    "Q2. Write a Python class called \"Rectangle\" with attributes for \"width\" and \"height\". Implement methods\n",
    "to calculate the area and perimeter of the rectangle. Create an instance of this class and use it to print out\n",
    "the rectangle's area and perimeter.\n",
    "\n",
    "Q3. Write a Python class called \"BankAccount\" with attributes for \"balance\" and \"interest_rate\".\n",
    "Implement methods to deposit and withdraw money from the account, as well as to calculate the interest\n",
    "earned on the balance based on the interest rate. Create an instance of this class and use it to test out the\n",
    "implemented methods for deposit, withdrawal, and interest calculation.\n",
    "\n",
    "Q4. Write a Python class called \"Animal\" with attributes for \"name\" and \"species\". Create a subclass of\n",
    "\"Animal\" called \"Dog\" with additional attributes for \"breed\" and \"owner\". Implement both classes with\n",
    "appropriate methods and constructors to initialise their properties. Create instances of both classes and\n",
    "use them to print out the various properties of the animals and dogs, such as their names, species,\n",
    "breeds, and owners.\n",
    "\n",
    "Q5. Create a class called \"Car\" with properties for \"make\", \"model\", and \"year\". Create a subclass of \"Car\"\n",
    "called \"ElectricCar\" with additional properties for \"battery_size\" and \"range\". Create objects of both\n",
    "classes and print out their properties.\n",
    "\n",
    "Q6. Create a class called \"Student\" with properties for \"name\" and \"id\". Create a subclass of \"Student\"\n",
    "called \"GraduateStudent\" with additional properties for \"advisor\" and \"research_area\". Create objects of\n",
    "both classes and print out their properties.\n",
    "\n",
    "Q7. Create a class called \"Shape\" with methods to calculate the area and perimeter of the shape. Create\n",
    "subclasses of \"Shape\" for \"Rectangle\", \"Circle\", and \"Triangle\" with their own methods for calculating area\n",
    "and perimeter. Create objects of each class and print out their area and perimeter.\n",
    "\n",
    "Q8. Create a class called \"Employee\" with properties for \"name\", \"id\", and \"salary\". Add methods to give\n",
    "the employee a raise and to calculate their annual salary. Create objects of this class and test out the\n",
    "methods.\n",
    "\n",
    "Q9. Create a class called \"Book\" with properties for \"title\", \"author\", and \"publisher\". Create a subclass of\n",
    "\"Book\" called \"Ebook\" with additional properties for \"file_format\" and \"file_size\". Create objects of both\n",
    "classes and print out their properties.\n",
    "\n",
    "Q10. Create a class called \"Bank\" with properties for \"name\" and \"accounts\". Add methods to create new\n",
    "accounts, deposit and withdraw money from accounts, and to calculate the total balance of all accounts.\n",
    "Create an object of this class and test out the methods."
   ]
  },
  {
   "cell_type": "code",
   "execution_count": 11,
   "id": "af9e576f-9ecb-4797-b689-84b58bcf0bb3",
   "metadata": {},
   "outputs": [
    {
     "name": "stdout",
     "output_type": "stream",
     "text": [
      "Suharsh 25 Male\n"
     ]
    }
   ],
   "source": [
    "# Sol 1:\n",
    "class Person:\n",
    "    def __init__(self, name, age, gender):\n",
    "        self.name = name\n",
    "        self.age = age\n",
    "        self.gender = gender\n",
    "        \n",
    "p1 = Person(\"Suharsh\",25,'Male')\n",
    "print(f\"{p1.name} {p1.age} {p1.gender}\")"
   ]
  },
  {
   "cell_type": "code",
   "execution_count": 18,
   "id": "bb21fc2a-5d76-4fbe-be2e-24336c4280e2",
   "metadata": {},
   "outputs": [
    {
     "data": {
      "text/plain": [
       "('Area of Rectangle: = 300', 'Perimeter of Rectangle = 70')"
      ]
     },
     "execution_count": 18,
     "metadata": {},
     "output_type": "execute_result"
    }
   ],
   "source": [
    "# Sol 2:\n",
    "class Rectangle:\n",
    "    def __init__(self,width,height):\n",
    "        self.width = width\n",
    "        self.height = height\n",
    "        \n",
    "    def area(self):\n",
    "        return self.width*self.height\n",
    "    \n",
    "    def perimeter(self):\n",
    "        return 2*(self.width+self.height)\n",
    "\n",
    "rect1 = Rectangle(15,20)\n",
    "f\"Area of Rectangle: = {rect1.area()}\",f\"Perimeter of Rectangle = {rect1.perimeter()}\""
   ]
  },
  {
   "cell_type": "code",
   "execution_count": 45,
   "id": "8deecaaa-8610-44d0-a2d7-ece23c9e9117",
   "metadata": {},
   "outputs": [
    {
     "name": "stdout",
     "output_type": "stream",
     "text": [
      "Balance: 2700\n",
      "Interest Earned:  40.5\n"
     ]
    }
   ],
   "source": [
    "# Sol 3:\n",
    "class BankAccount:\n",
    "    # balance = 0\n",
    "    def __init__(self, balance, interest_rate):\n",
    "        self.balance = balance\n",
    "        self.interest_rate = interest_rate\n",
    "    \n",
    "    def deposit(self, amount):\n",
    "         self.balance += amount\n",
    "        \n",
    "    \n",
    "    def withdrawal(self,amount):\n",
    "        \n",
    "        self.balance -= amount\n",
    "            \n",
    "    \n",
    "    def calculate_interest(self):\n",
    "        return self.balance * self.interest_rate / 100\n",
    "\n",
    "ac1 = BankAccount(2500,1.5)\n",
    "ac1.deposit(500)\n",
    "ac1.withdrawal(300)\n",
    "interest_earned = ac1.calculate_interest()\n",
    "print(\"Balance:\",ac1.balance)\n",
    "print(\"Interest Earned: \",interest_earned)\n",
    "    "
   ]
  },
  {
   "cell_type": "code",
   "execution_count": 46,
   "id": "4723d16e-3ff4-4221-871a-73ffd871c8f0",
   "metadata": {},
   "outputs": [
    {
     "data": {
      "text/plain": [
       "('Tom', 'puppy', 'GermanShepherd', 'Rajesh', 'Misti')"
      ]
     },
     "execution_count": 46,
     "metadata": {},
     "output_type": "execute_result"
    }
   ],
   "source": [
    "# Sol 4:\n",
    "class Animal:\n",
    "    def __init__(self, name, species):\n",
    "        self.name = name\n",
    "        self.species = species\n",
    "\n",
    "class Dog(Animal):\n",
    "    def __init__(self, breed, owner, name, species):\n",
    "        self.breed = breed\n",
    "        self.owner = owner\n",
    "        super().__init__(name,species)\n",
    "    \n",
    "cat = Animal('Tom','puppy')\n",
    "dog1 = Dog(\"GermanShepherd\",\"Rajesh\",\"Misti\",'doggy')\n",
    "cat.name,cat.species,dog1.breed,dog1.owner,dog1.name"
   ]
  },
  {
   "cell_type": "code",
   "execution_count": 9,
   "id": "26b1617c-7582-4db1-8ecd-d07b69cae370",
   "metadata": {},
   "outputs": [
    {
     "name": "stdout",
     "output_type": "stream",
     "text": [
      "Toyota Innova 2019\n",
      "Tata Harrier 2023 5kW 400 km\n"
     ]
    }
   ],
   "source": [
    "# Sol 5:\n",
    "class Car:\n",
    "    def __init__(self, make, model, year):\n",
    "        self.make = make\n",
    "        self.model = model\n",
    "        self.year = year\n",
    "\n",
    "class ElectricCar(Car):\n",
    "    def __init__(self, make, model, year, battery_size, range):\n",
    "        super().__init__(make, model, year)\n",
    "        self.battery_size = battery_size\n",
    "        self.range = range\n",
    "\n",
    "C1 = Car('Toyota','Innova',2019)\n",
    "EC1 = ElectricCar('Tata','Harrier',2023, '5kW', '400 km')\n",
    "print(C1.make,C1.model,C1.year)\n",
    "print(EC1.make,EC1.model,EC1.year,EC1.battery_size,EC1.range)\n"
   ]
  },
  {
   "cell_type": "code",
   "execution_count": 11,
   "id": "532f4540-939e-4deb-b690-271f1f6f5b8d",
   "metadata": {},
   "outputs": [
    {
     "name": "stdout",
     "output_type": "stream",
     "text": [
      "Student name: Sudhanshu\n",
      "Student ID: 12345\n",
      "Graduate student name: Suharsh\n",
      "Graduate student ID: 67890\n",
      "Advisor: Sudhanshu\n",
      "Research area: Data Science\n"
     ]
    }
   ],
   "source": [
    "# Sol 6:\n",
    "class Student:\n",
    "    def __init__(self, name, id):\n",
    "        self.name = name\n",
    "        self.id = id\n",
    "\n",
    "class GraduateStudent(Student):\n",
    "    def __init__(self, name, id, advisor, research_area):\n",
    "        super().__init__(name, id)\n",
    "        self.advisor = advisor\n",
    "        self.research_area = research_area\n",
    "\n",
    "s = Student(\"Sudhanshu\", 12345)\n",
    "print(\"Student name:\", s.name)\n",
    "print(\"Student ID:\", s.id)\n",
    "\n",
    "# Create a graduate student\n",
    "gs = GraduateStudent(\"Suharsh\", 67890, \"Sudhanshu\", \"Data Science\")\n",
    "print(\"Graduate student name:\", gs.name)\n",
    "print(\"Graduate student ID:\", gs.id)\n",
    "print(\"Advisor:\", gs.advisor)\n",
    "print(\"Research area:\", gs.research_area)"
   ]
  },
  {
   "cell_type": "code",
   "execution_count": 13,
   "id": "9eb402b9-a1b2-4121-aa61-22296a54a3d9",
   "metadata": {},
   "outputs": [
    {
     "name": "stdout",
     "output_type": "stream",
     "text": [
      "Rectangle area: 50\n",
      "Rectangle perimeter: 30\n",
      "Circle area: 50.26548245743669\n",
      "Circle perimeter: 25.132741228718345\n",
      "Triangle area: 6.0\n",
      "Triangle perimeter: 12\n"
     ]
    }
   ],
   "source": [
    "# Sol 7:\n",
    "import math\n",
    "\n",
    "class Shape:\n",
    "    def area(self):\n",
    "        pass\n",
    "    \n",
    "    def perimeter(self):\n",
    "        pass\n",
    "\n",
    "class Rectangle(Shape):\n",
    "    def __init__(self, length, width):\n",
    "        self.length = length\n",
    "        self.width = width\n",
    "    \n",
    "    def area(self):\n",
    "        return self.length * self.width\n",
    "    \n",
    "    def perimeter(self):\n",
    "        return 2 * (self.length + self.width)\n",
    "\n",
    "class Circle(Shape):\n",
    "    def __init__(self, radius):\n",
    "        self.radius = radius\n",
    "    \n",
    "    def area(self):\n",
    "        return math.pi * self.radius ** 2\n",
    "    \n",
    "    def perimeter(self):\n",
    "        return 2 * math.pi * self.radius\n",
    "\n",
    "class Triangle(Shape):\n",
    "    def __init__(self, a, b, c):\n",
    "        self.a = a\n",
    "        self.b = b\n",
    "        self.c = c\n",
    "    \n",
    "    def area(self):\n",
    "        s = (self.a + self.b + self.c) / 2\n",
    "        return math.sqrt(s * (s - self.a) * (s - self.b) * (s - self.c))\n",
    "    \n",
    "    def perimeter(self):\n",
    "        return self.a + self.b + self.c\n",
    "\n",
    "# Create a rectangle\n",
    "r = Rectangle(5, 10)\n",
    "print(\"Rectangle area:\", r.area())\n",
    "print(\"Rectangle perimeter:\", r.perimeter())\n",
    "\n",
    "# Create a circle\n",
    "c = Circle(4)\n",
    "print(\"Circle area:\", c.area())\n",
    "print(\"Circle perimeter:\", c.perimeter())\n",
    "\n",
    "# Create a triangle\n",
    "t = Triangle(3, 4, 5)\n",
    "print(\"Triangle area:\", t.area())\n",
    "print(\"Triangle perimeter:\", t.perimeter())\n",
    "\n"
   ]
  },
  {
   "cell_type": "code",
   "execution_count": 14,
   "id": "2f59f729-14fd-4066-abc1-e9e540dce58a",
   "metadata": {},
   "outputs": [
    {
     "name": "stdout",
     "output_type": "stream",
     "text": [
      "New salary: 55000\n",
      "Annual salary: 660000\n"
     ]
    }
   ],
   "source": [
    "# Sol 8:\n",
    "class Employee:\n",
    "    def __init__(self, name, id, salary):\n",
    "        self.name = name\n",
    "        self.id = id\n",
    "        self.salary = salary\n",
    "    \n",
    "    def give_raise(self, amount):\n",
    "        self.salary += amount\n",
    "    \n",
    "    def annual_salary(self):\n",
    "        return self.salary * 12\n",
    "\n",
    "# Create an employee\n",
    "e = Employee(\"Suharsh\", 12345, 50000)\n",
    "\n",
    "# Test the give_raise method\n",
    "e.give_raise(5000)\n",
    "print(\"New salary:\", e.salary)\n",
    "\n",
    "# Test the annual_salary method\n",
    "print(\"Annual salary:\", e.annual_salary())\n"
   ]
  },
  {
   "cell_type": "code",
   "execution_count": 15,
   "id": "94c88850-cbf9-4215-8e7c-b2f8f5fefdd0",
   "metadata": {},
   "outputs": [
    {
     "name": "stdout",
     "output_type": "stream",
     "text": [
      "Book title: The Great Gatsby\n",
      "Book author: F. Scott Fitzgerald\n",
      "Book publisher: Scribner\n",
      "Ebook title: The Hunger Games\n",
      "Ebook author: Suzanne Collins\n",
      "Ebook publisher: Scholastic\n",
      "Ebook file format: PDF\n",
      "Ebook file size: 2 MB\n"
     ]
    }
   ],
   "source": [
    "# Sol 9:\n",
    "class Book:\n",
    "    def __init__(self, title, author, publisher):\n",
    "        self.title = title\n",
    "        self.author = author\n",
    "        self.publisher = publisher\n",
    "\n",
    "class Ebook(Book):\n",
    "    def __init__(self, title, author, publisher, file_format, file_size):\n",
    "        super().__init__(title, author, publisher)\n",
    "        self.file_format = file_format\n",
    "        self.file_size = file_size\n",
    "\n",
    "# Create a regular book\n",
    "b = Book(\"The Great Gatsby\", \"F. Scott Fitzgerald\", \"Scribner\")\n",
    "print(\"Book title:\", b.title)\n",
    "print(\"Book author:\", b.author)\n",
    "print(\"Book publisher:\", b.publisher)\n",
    "\n",
    "# Create an ebook\n",
    "e = Ebook(\"The Hunger Games\", \"Suzanne Collins\", \"Scholastic\", \"PDF\", \"2 MB\")\n",
    "print(\"Ebook title:\", e.title)\n",
    "print(\"Ebook author:\", e.author)\n",
    "print(\"Ebook publisher:\", e.publisher)\n",
    "print(\"Ebook file format:\", e.file_format)\n",
    "print(\"Ebook file size:\", e.file_size)\n"
   ]
  },
  {
   "cell_type": "code",
   "execution_count": 16,
   "id": "1dcc2fa9-5631-4239-b934-5e071187dda3",
   "metadata": {},
   "outputs": [
    {
     "name": "stdout",
     "output_type": "stream",
     "text": [
      "Total balance: 300\n",
      "Accounts: {'John Smith': 300}\n"
     ]
    }
   ],
   "source": [
    "# Sol 10:\n",
    "class Bank:\n",
    "    def __init__(self, name):\n",
    "        self.name = name\n",
    "        self._accounts = {}\n",
    "    \n",
    "    def create_account(self, name, initial_balance):\n",
    "        self._accounts[name] = initial_balance\n",
    "    \n",
    "    def deposit(self, name, amount):\n",
    "        self._accounts[name] += amount\n",
    "    \n",
    "    def withdraw(self, name, amount):\n",
    "        if self._accounts[name] >= amount:\n",
    "            self._accounts[name] -= amount\n",
    "        else:\n",
    "            print(\"Error: not enough funds\")\n",
    "    \n",
    "    @property\n",
    "    def total_balance(self):\n",
    "        return sum(self._accounts.values())\n",
    "    \n",
    "    @property\n",
    "    def accounts(self):\n",
    "        return self._accounts\n",
    "\n",
    "# Create a bank\n",
    "b = Bank(\"My Bank\")\n",
    "\n",
    "# Create an account and deposit money\n",
    "b.create_account(\"John Smith\", 1000)\n",
    "b.deposit(\"John Smith\", 500)\n",
    "\n",
    "# Withdraw money\n",
    "b.withdraw(\"John Smith\", 200)\n",
    "b.withdraw(\"John Smith\", 1000)\n",
    "\n",
    "# Check total balance and accounts\n",
    "print(\"Total balance:\", b.total_balance)\n",
    "print(\"Accounts:\", b.accounts)\n"
   ]
  },
  {
   "cell_type": "code",
   "execution_count": null,
   "id": "5f0c5e8b-5a95-49f3-bfc6-566df8a7afc3",
   "metadata": {},
   "outputs": [],
   "source": []
  }
 ],
 "metadata": {
  "kernelspec": {
   "display_name": "Python 3 (ipykernel)",
   "language": "python",
   "name": "python3"
  },
  "language_info": {
   "codemirror_mode": {
    "name": "ipython",
    "version": 3
   },
   "file_extension": ".py",
   "mimetype": "text/x-python",
   "name": "python",
   "nbconvert_exporter": "python",
   "pygments_lexer": "ipython3",
   "version": "3.10.8"
  }
 },
 "nbformat": 4,
 "nbformat_minor": 5
}
