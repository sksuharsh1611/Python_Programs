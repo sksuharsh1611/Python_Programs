{
 "cells": [
  {
   "cell_type": "code",
   "execution_count": null,
   "id": "5bdc76b1-b716-4cc4-a09c-30cb81829872",
   "metadata": {},
   "outputs": [],
   "source": [
    "Q1. Create a dictionary called fruits with the following key-value pairs:\n",
    "\"apple\": 0.75\n",
    "\"banana\": 1.25\n",
    "\"orange\": 0.90\n",
    "Then, print out the price of a banana.\n",
    "\n",
    "Q2. Create an empty dictionary called ages. Add the following key-value pairs to the dictionary:\n",
    "\"Alice\": 30\n",
    "\"Bob\": 25\n",
    "\"Charlie\": 35\n",
    "Then, print out the age of Charlie.\n",
    "\n",
    "Q3. Write a function called word_count(text) that takes a string as input and returns a dictionary where\n",
    "each key is a word in the text and its value is the number of times that word appears in the text. For\n",
    "example, word_count(\"hello world hello\") should return {\"hello\": 2, \"world\": 1}.\n",
    "\n",
    "Q4. Create a dictionary called phone_book with the following key-value pairs:\n",
    "\"Alice\": \"555-1234\"\n",
    "\"Bob\": \"555-5678\"\n",
    "\"Charlie\": \"555-9012\"\n",
    "Then, prompt the user to enter a name and print out the corresponding phone number. If the name is not\n",
    "in the phone book, print out a message saying that the name was not found.\n",
    "\n",
    "Q5. Write a program that prompts the user to enter a number between 1 and 10. If the number is less than\n",
    "5, print out \"Too low!\", otherwise print out \"Too high!\".\n",
    "\n",
    "Q6. Write a program that prompts the user to enter a password. If the password is \"password123\", print\n",
    "out \"Access granted\", otherwise print out \"Access denied\".\n",
    "\n",
    "Q7. Write a program that prompts the user to enter a positive integer. Then, use a loop to print out all the\n",
    "odd numbers from 1 to that integer.\n",
    "\n",
    "Q8. Write a program that generates a random number between 1 and 100 and then prompts the user to\n",
    "guess the number. If the user's guess is too low, print out \"Too low!\", if the guess is too high, print out \"Too\n",
    "high!\", and if the guess is correct, print out \"You win!\".\n",
    "\n",
    "Q9. Write a program that generates a random number between 1 and 10 and then prompts the user to\n",
    "guess the number. The user has three attempts to guess the number. If the user guesses correctly within\n",
    "three attempts, print out \"You win!\", otherwise print out \"You lose!\".\n",
    "\n",
    "Q10. Write a program that prompts the user to enter their age and then prints out whether they are a child\n",
    "(age 0-12), a teenager (age 13-19), an adult (age 20-59), or a senior (age 60+)"
   ]
  },
  {
   "cell_type": "code",
   "execution_count": 3,
   "id": "1f59d444-3b52-4d44-8900-119055ef2efe",
   "metadata": {},
   "outputs": [
    {
     "name": "stdout",
     "output_type": "stream",
     "text": [
      "Price of banana 1.25\n"
     ]
    }
   ],
   "source": [
    "# Sol 1:\n",
    "dict1 = {\"apple\": 0.75\n",
    "        ,\"banana\": 1.25\n",
    "        ,\"orange\": 0.90\n",
    "        }\n",
    "print(\"Price of banana\",dict1['banana'])"
   ]
  },
  {
   "cell_type": "code",
   "execution_count": 8,
   "id": "0fe06106-9a7a-4851-bb3a-702061650ed5",
   "metadata": {},
   "outputs": [
    {
     "name": "stdout",
     "output_type": "stream",
     "text": [
      "Age of Charlie: 35\n"
     ]
    }
   ],
   "source": [
    "# Sol 2:\n",
    "dict2 = {}\n",
    "dict2.update({\"Alice\": 30,\"Bob\": 25,\"Charlie\": 35  })\n",
    "# \"Alice\": 30,\"Bob\": 25,\"Charlie\": 35          \n",
    "print(\"Age of Charlie:\",dict2['Charlie'])"
   ]
  },
  {
   "cell_type": "code",
   "execution_count": 36,
   "id": "d3b1ee20-75fe-4cb2-ac43-c321480a4f1c",
   "metadata": {},
   "outputs": [
    {
     "name": "stdout",
     "output_type": "stream",
     "text": [
      "{'hello': 2, 'world': 1}\n"
     ]
    }
   ],
   "source": [
    "# Sol 3:\n",
    "from collections import Counter\n",
    "\n",
    "def word_count(text):\n",
    "    l = text.lower().split(' ')\n",
    "    return dict(Counter(l))\n",
    "\n",
    "text = \"hello world hello\"\n",
    "dict1 = word_count(text)\n",
    "print(dict1)\n"
   ]
  },
  {
   "cell_type": "code",
   "execution_count": 48,
   "id": "a85dbb3c-3579-45c4-801b-4c8e136c94f6",
   "metadata": {},
   "outputs": [
    {
     "name": "stdin",
     "output_type": "stream",
     "text": [
      "Enter name to search their contact: Bob\n"
     ]
    },
    {
     "name": "stdout",
     "output_type": "stream",
     "text": [
      "Bob's contact number is: 555-5678\n"
     ]
    }
   ],
   "source": [
    "# Sol 4:\n",
    "phone_book = {\"Alice\": \"555-1234\"\n",
    "              ,\"Bob\": \"555-5678\"\n",
    "              ,\"Charlie\": \"555-9012\"}\n",
    "name = input(\"Enter name to search their contact:\")\n",
    "for i in phone_book:\n",
    "    if name in phone_book:\n",
    "        print(f\"{name}'s contact number is: {phone_book[name]}\") \n",
    "        break\n",
    "else:\n",
    "    print('The name was not found.')\n"
   ]
  },
  {
   "cell_type": "code",
   "execution_count": 58,
   "id": "89c7eaf3-3958-4815-81b0-0ef337239ec6",
   "metadata": {},
   "outputs": [
    {
     "name": "stdin",
     "output_type": "stream",
     "text": [
      "Enter any number between 1 to 10: 6\n"
     ]
    },
    {
     "name": "stdout",
     "output_type": "stream",
     "text": [
      "Too high!\n"
     ]
    }
   ],
   "source": [
    "# Sol 5:\n",
    "num = int(input(\"Enter any number between 1 to 10:\"))\n",
    "if num < 0:\n",
    "    print(f\"Invalid Input!! {num} Try again.\")\n",
    "else:\n",
    "    if num < 5:\n",
    "        print(f\"Too low!\")\n",
    "    else:\n",
    "        print(f\"Too high!\")\n",
    "    "
   ]
  },
  {
   "cell_type": "code",
   "execution_count": 59,
   "id": "6da8f6c1-28e7-4e84-a8b0-3d8b795c609f",
   "metadata": {},
   "outputs": [
    {
     "name": "stdin",
     "output_type": "stream",
     "text": [
      "Enter password: password123\n"
     ]
    },
    {
     "name": "stdout",
     "output_type": "stream",
     "text": [
      "Access granted\n"
     ]
    }
   ],
   "source": [
    "# Sol 6:\n",
    "password = input(\"Enter password:\")\n",
    "if password == \"password123\":\n",
    "    print(\"Access granted\")\n",
    "else:\n",
    "    print(\"Access denied\")"
   ]
  },
  {
   "cell_type": "code",
   "execution_count": 67,
   "id": "682a5f2a-b12a-4b06-b21d-20c30f40eeb2",
   "metadata": {},
   "outputs": [
    {
     "name": "stdin",
     "output_type": "stream",
     "text": [
      "Enter any positive number: 15\n"
     ]
    },
    {
     "name": "stdout",
     "output_type": "stream",
     "text": [
      "1\n",
      "3\n",
      "5\n",
      "7\n",
      "9\n",
      "11\n",
      "13\n",
      "15\n"
     ]
    }
   ],
   "source": [
    "# Sol 7:\n",
    "number = int(input(\"Enter any positive number:\"))\n",
    "for i in range(1,number+1):\n",
    "    if(i%2==1):\n",
    "        print(i)\n",
    "    \n"
   ]
  },
  {
   "cell_type": "code",
   "execution_count": 108,
   "id": "bffe22bc-2e75-43a5-9b8b-bc8ad41a3095",
   "metadata": {},
   "outputs": [
    {
     "name": "stdin",
     "output_type": "stream",
     "text": [
      "Guess the number between 1 and 100:  45\n"
     ]
    },
    {
     "name": "stdout",
     "output_type": "stream",
     "text": [
      "Too high!\n"
     ]
    }
   ],
   "source": [
    "# Sol 8:\n",
    "import random\n",
    "\n",
    "# generate a random number between 1 and 100\n",
    "secret_number = random.randint(1, 100)\n",
    "\n",
    "\n",
    "# prompt user to guess the number\n",
    "guess = int(input(\"Guess the number between 1 and 100: \"))\n",
    "\n",
    "# check if guess is too low, too high, or correct\n",
    "if guess < secret_number:\n",
    "    print(\"Too low!\")\n",
    "elif guess > secret_number:\n",
    "    print(\"Too high!\")\n",
    "else:\n",
    "    # guess is correct, print \"You win!\" \n",
    "    print(\"You win!\")\n",
    "    \n",
    "\n"
   ]
  },
  {
   "cell_type": "code",
   "execution_count": 106,
   "id": "303232f8-9504-4021-9a60-fa9101998837",
   "metadata": {},
   "outputs": [
    {
     "name": "stdin",
     "output_type": "stream",
     "text": [
      "Guess the number between 1 and 100:  45\n"
     ]
    },
    {
     "name": "stdout",
     "output_type": "stream",
     "text": [
      "Too low!\n"
     ]
    },
    {
     "name": "stdin",
     "output_type": "stream",
     "text": [
      "Guess the number between 1 and 100:  65\n"
     ]
    },
    {
     "name": "stdout",
     "output_type": "stream",
     "text": [
      "Too high!\n"
     ]
    },
    {
     "name": "stdin",
     "output_type": "stream",
     "text": [
      "Guess the number between 1 and 100:  55\n"
     ]
    },
    {
     "name": "stdout",
     "output_type": "stream",
     "text": [
      "Too high!\n",
      "You lose! The secret number was 51\n"
     ]
    }
   ],
   "source": [
    "# Sol 9:\n",
    "import random\n",
    "\n",
    "# generate a random number between 1 and 100\n",
    "secret_number = random.randint(1, 100)\n",
    "\n",
    "# set the maximum number of guesses\n",
    "max_guesses = 3\n",
    "\n",
    "# loop for the maximum number of guesses\n",
    "for i in range(max_guesses):\n",
    "    # prompt user to guess the number\n",
    "    guess = int(input(\"Guess the number between 1 and 100: \"))\n",
    "\n",
    "    # check if guess is too low, too high, or correct\n",
    "    if guess < secret_number:\n",
    "        print(\"Too low!\")\n",
    "    elif guess > secret_number:\n",
    "        print(\"Too high!\")\n",
    "    else:\n",
    "        # guess is correct, print \"You win!\" and break out of the loop\n",
    "        print(\"You win!\")\n",
    "        break\n",
    "\n",
    "# if the loop completes without a correct guess, print \"You lose!\"\n",
    "else:\n",
    "    print(\"You lose! The secret number was\", secret_number)"
   ]
  },
  {
   "cell_type": "code",
   "execution_count": 123,
   "id": "129d77b6-f35a-4bf7-a40e-7b482183da56",
   "metadata": {},
   "outputs": [
    {
     "name": "stdin",
     "output_type": "stream",
     "text": [
      "Enter your age:  61\n"
     ]
    },
    {
     "name": "stdout",
     "output_type": "stream",
     "text": [
      "You are a senior citizen\n"
     ]
    }
   ],
   "source": [
    "# Sol 10:\n",
    "age = int(input(\"Enter your age: \"))\n",
    "if age < 0:\n",
    "    print(\"Invalid Input! Age can't be negative\")\n",
    "else:\n",
    "    if age <= 12:\n",
    "        print(\"You are a child\")\n",
    "    elif age <= 19:\n",
    "        print(\"You are a teenager\")\n",
    "    elif age <= 59:\n",
    "        print(\"You are an adult\")\n",
    "    else:\n",
    "        print(\"You are a senior citizen\")"
   ]
  },
  {
   "cell_type": "code",
   "execution_count": null,
   "id": "c5263679-7312-48e9-be32-61d28d68ae0a",
   "metadata": {},
   "outputs": [],
   "source": []
  }
 ],
 "metadata": {
  "kernelspec": {
   "display_name": "Python 3 (ipykernel)",
   "language": "python",
   "name": "python3"
  },
  "language_info": {
   "codemirror_mode": {
    "name": "ipython",
    "version": 3
   },
   "file_extension": ".py",
   "mimetype": "text/x-python",
   "name": "python",
   "nbconvert_exporter": "python",
   "pygments_lexer": "ipython3",
   "version": "3.10.8"
  }
 },
 "nbformat": 4,
 "nbformat_minor": 5
}
